{
 "cells": [
  {
   "cell_type": "code",
   "execution_count": 1,
   "metadata": {},
   "outputs": [],
   "source": [
    "from transformers import AutoTokenizer, pipeline, AutoModelForCausalLM\n",
    "import matplotlib.pyplot as plt\n",
    "import torch\n",
    "from tqdm import tqdm\n",
    "import numpy as np\n",
    "\n",
    "from repe import repe_pipeline_registry\n",
    "repe_pipeline_registry()\n",
    "\n",
    "from utils import primary_emotions_concept_dataset, primary_persona_concept_dataset_test, primary_persona_concept_dataset_test2"
   ]
  },
  {
   "cell_type": "code",
   "execution_count": null,
   "metadata": {},
   "outputs": [],
   "source": [
    "!huggingface-cli login --token "
   ]
  },
  {
   "cell_type": "markdown",
   "metadata": {},
   "source": [
    "# Loading model"
   ]
  },
  {
   "cell_type": "code",
   "execution_count": 2,
   "metadata": {},
   "outputs": [
    {
     "data": {
      "application/vnd.jupyter.widget-view+json": {
       "model_id": "2b0762d517d44c4dab1e4d9b49ce2064",
       "version_major": 2,
       "version_minor": 0
      },
      "text/plain": [
       "Loading checkpoint shards:   0%|          | 0/4 [00:00<?, ?it/s]"
      ]
     },
     "metadata": {},
     "output_type": "display_data"
    }
   ],
   "source": [
    "model_name_or_path = \"meta-llama/Meta-Llama-3.1-8B-Instruct\"\n",
    "\n",
    "model = AutoModelForCausalLM.from_pretrained(model_name_or_path, torch_dtype=torch.float16, device_map=\"auto\", token=True).eval()\n",
    "use_fast_tokenizer = \"LlamaForCausalLM\" not in model.config.architectures\n",
    "tokenizer = AutoTokenizer.from_pretrained(model_name_or_path, use_fast=use_fast_tokenizer, padding_side=\"left\", legacy=False, token=True)\n",
    "tokenizer.pad_token_id = 0 if tokenizer.pad_token_id is None else tokenizer.pad_token_id\n",
    "tokenizer.bos_token_id = 1"
   ]
  },
  {
   "cell_type": "code",
   "execution_count": 2,
   "metadata": {},
   "outputs": [
    {
     "data": {
      "application/vnd.jupyter.widget-view+json": {
       "model_id": "3f51884de2084f5b9480376168adeeb3",
       "version_major": 2,
       "version_minor": 0
      },
      "text/plain": [
       "Loading checkpoint shards:   0%|          | 0/3 [00:00<?, ?it/s]"
      ]
     },
     "metadata": {},
     "output_type": "display_data"
    }
   ],
   "source": [
    "model_name_or_path = \"mistralai/Mistral-7B-Instruct-v0.3\"\n",
    "# model_name_or_path = \"mistralai/Mistral-Large-Instruct-2407\"\n",
    "\n",
    "model = AutoModelForCausalLM.from_pretrained(model_name_or_path, torch_dtype=torch.float16, device_map=\"auto\").eval()\n",
    "use_fast_tokenizer = \"LlamaForCausalLM\" not in model.config.architectures\n",
    "tokenizer = AutoTokenizer.from_pretrained(model_name_or_path, use_fast=use_fast_tokenizer, padding_side=\"left\", legacy=False)\n",
    "tokenizer.pad_token_id = 0 if tokenizer.pad_token_id is None else tokenizer.pad_token_id\n",
    "tokenizer.bos_token_id = 1"
   ]
  },
  {
   "cell_type": "code",
   "execution_count": 2,
   "metadata": {},
   "outputs": [
    {
     "data": {
      "application/vnd.jupyter.widget-view+json": {
       "model_id": "b1a63762b1df4a4f92d464e04abc27d0",
       "version_major": 2,
       "version_minor": 0
      },
      "text/plain": [
       "Loading checkpoint shards:   0%|          | 0/5 [00:00<?, ?it/s]"
      ]
     },
     "metadata": {},
     "output_type": "display_data"
    }
   ],
   "source": [
    "model_name_or_path = \"mistralai/Mistral-Nemo-Instruct-2407\"\n",
    "# model_name_or_path = \"mistralai/Mistral-Large-Instruct-2407\"\n",
    "# model_name_or_path = \"mistralai/Mistral-Nemo-Base-2407\"\n",
    "\n",
    "model = AutoModelForCausalLM.from_pretrained(model_name_or_path, torch_dtype=torch.float16, device_map=\"auto\").eval()\n",
    "use_fast_tokenizer = \"LlamaForCausalLM\" not in model.config.architectures\n",
    "tokenizer = AutoTokenizer.from_pretrained(model_name_or_path, use_fast=use_fast_tokenizer, padding_side=\"left\", legacy=False)\n",
    "tokenizer.pad_token_id = 0 if tokenizer.pad_token_id is None else tokenizer.pad_token_id\n",
    "tokenizer.bos_token_id = 1"
   ]
  },
  {
   "cell_type": "markdown",
   "metadata": {},
   "source": [
    "# Reading"
   ]
  },
  {
   "cell_type": "code",
   "execution_count": 20,
   "metadata": {},
   "outputs": [],
   "source": [
    "rep_token = -2\n",
    "hidden_layers = list(range(-1, -model.config.num_hidden_layers, -1))\n",
    "n_difference = 1\n",
    "direction_method = 'pca'\n",
    "rep_reading_pipeline = pipeline(\"rep-reading\", model=model, tokenizer=tokenizer)"
   ]
  },
  {
   "cell_type": "code",
   "execution_count": 21,
   "metadata": {},
   "outputs": [],
   "source": [
    "#For mistral models\n",
    "personalities = [\"judgement\"]\n",
    "data_dir = \".\"\n",
    "user_tag =  \"[INST]\"\n",
    "assistant_tag =  \"[/INST]\"\n",
    "\n",
    "data = primary_persona_concept_dataset_test2(data_dir, user_tag=user_tag, assistant_tag=assistant_tag)"
   ]
  },
  {
   "cell_type": "code",
   "execution_count": 4,
   "metadata": {},
   "outputs": [],
   "source": [
    "#For Llama models\n",
    "personalities = [\"introversion\"]\n",
    "data_dir = \".\"\n",
    "user_tag =  \"<|begin_of_text|><|start_header_id|>user<|end_header_id|>\"\n",
    "assistant_tag =  \"<|eot_id|><|start_header_id|>assistant<|end_header_id|>\"\n",
    "\n",
    "data = primary_persona_concept_dataset_test(data_dir, user_tag=user_tag, assistant_tag=assistant_tag)"
   ]
  },
  {
   "cell_type": "code",
   "execution_count": null,
   "metadata": {},
   "outputs": [],
   "source": [
    "#For phi models\n",
    "personalities = [\"introversion\"]\n",
    "data_dir = \".\"\n",
    "user_tag =  \"<|user|>\"\n",
    "assistant_tag =  \"<|end|><|assistant|>\"\n",
    "\n",
    "data = primary_persona_concept_dataset_test(data_dir, user_tag=user_tag, assistant_tag=assistant_tag)"
   ]
  },
  {
   "cell_type": "markdown",
   "metadata": {},
   "source": [
    "## Sanity check for prompts"
   ]
  },
  {
   "cell_type": "code",
   "execution_count": 13,
   "metadata": {},
   "outputs": [],
   "source": [
    "sample = data['judgement']['train']['data'][6]"
   ]
  },
  {
   "cell_type": "code",
   "execution_count": 14,
   "metadata": {},
   "outputs": [
    {
     "data": {
      "text/plain": [
       "{'input_ids': [1, 3, 24900, 1278, 27725, 20687, 1058, 21031, 93540, 1047, 1569, 3043, 1046, 5675, 1395, 1278, 27725, 1307, 1278, 6089, 1394, 3629, 3403, 1877, 3210, 1058, 28972, 1284, 42047, 3897, 20552, 2662, 7290, 1032, 3213, 21670, 1462, 1531, 9959, 27012, 1462, 3213, 6185, 1461, 10994, 6658, 14904, 1044, 38825, 1626, 4, 1531, 27725, 1307, 1278, 6089, 1395, 1032], 'attention_mask': [1, 1, 1, 1, 1, 1, 1, 1, 1, 1, 1, 1, 1, 1, 1, 1, 1, 1, 1, 1, 1, 1, 1, 1, 1, 1, 1, 1, 1, 1, 1, 1, 1, 1, 1, 1, 1, 1, 1, 1, 1, 1, 1, 1, 1, 1, 1, 1, 1, 1, 1, 1, 1, 1, 1, 1, 1, 1]}"
      ]
     },
     "execution_count": 14,
     "metadata": {},
     "output_type": "execute_result"
    }
   ],
   "source": [
    "tokenizer(sample)"
   ]
  },
  {
   "cell_type": "code",
   "execution_count": 15,
   "metadata": {},
   "outputs": [
    {
     "name": "stdout",
     "output_type": "stream",
     "text": [
      "<s>[INST] Consider the personality trait:judgement/perception. What is the personality of the author for following text:\n",
      "Text: Dance fucker , dance !!!  YouTube - The Offspring - You're Gonna Go Far, Kid.\n",
      "[/INST] The personality of the author is 100% Perceiving and 0% Judging. Here's why:\n",
      "\n",
      "1. **Perceiving**:\n",
      "   - The text is casual, spontaneous, and in the moment. It's a reaction to something (likely a song or video), not a planned statement.\n",
      "   - It's open-ended, inviting further interaction or response, which is a perceiving trait.\n",
      "   - The use of exclamation marks and the informal language (\"fucker\", \"dance\") suggests a spontaneous, immediate response.\n",
      "\n",
      "2. **Judging**:\n",
      "   - There's no evidence of planning, organizing, or evaluating in the text. It's not a critique or analysis of the song, just a reaction to it.\n",
      "   - There's no attempt to make a decision or reach a conclusion. It's not saying \"this is good\" or \"this is bad\", it's just saying \"dance\".\n",
      "   - There's no sign of any long-term thinking or goal-setting, which are judging traits.\n",
      "\n",
      "So, based on the text provided, the author's personality type is clearly Perceiving, with no signs of Judging.</s>\n"
     ]
    }
   ],
   "source": [
    "sample_res = model.generate(tokenizer.encode(sample,return_tensors=\"pt\").to(\"cuda\"), max_new_tokens=1024)\n",
    "sample_res = tokenizer.decode(sample_res[0])\n",
    "print(sample_res)"
   ]
  },
  {
   "cell_type": "markdown",
   "metadata": {},
   "source": [
    "## Rep vector training"
   ]
  },
  {
   "cell_type": "code",
   "execution_count": 22,
   "metadata": {},
   "outputs": [
    {
     "name": "stderr",
     "output_type": "stream",
     "text": [
      "100%|██████████| 1/1 [28:48<00:00, 1728.79s/it]\n"
     ]
    }
   ],
   "source": [
    "personality_H_tests = {}\n",
    "personality_rep_readers = {}\n",
    "for personality in tqdm(personalities):\n",
    "    train_data = data[personality]['train']\n",
    "    test_data = data[personality]['test']\n",
    "    \n",
    "    rep_reader = rep_reading_pipeline.get_directions(\n",
    "        train_data['data'], \n",
    "        rep_token=rep_token, \n",
    "        hidden_layers=hidden_layers, \n",
    "        n_difference=n_difference, \n",
    "        train_labels=train_data['labels'], \n",
    "        direction_method=direction_method,\n",
    "    )\n",
    "\n",
    "    H_tests = rep_reading_pipeline(\n",
    "        test_data['data'], \n",
    "        rep_token=rep_token, \n",
    "        hidden_layers=hidden_layers, \n",
    "        rep_reader=rep_reader,\n",
    "        batch_size=32)\n",
    "    \n",
    "    personality_H_tests[personality] = H_tests\n",
    "    personality_rep_readers[personality] = rep_reader"
   ]
  },
  {
   "cell_type": "code",
   "execution_count": 23,
   "metadata": {},
   "outputs": [
    {
     "data": {
      "image/png": "[encoded data removed]",
      "text/plain": [
       "<Figure size 640x480 with 1 Axes>"
      ]
     },
     "metadata": {},
     "output_type": "display_data"
    }
   ],
   "source": [
    "results = {layer: {} for layer in hidden_layers}\n",
    "for layer in hidden_layers:\n",
    "    for idx, personality in enumerate(personalities):\n",
    "        H_test = [H[layer] for H in personality_H_tests[personality]] \n",
    "        H_test = [H_test[i:i+2] for i in range(0, len(H_test), 2)]\n",
    "        \n",
    "        sign = personality_rep_readers[personality].direction_signs[layer]\n",
    "        eval_func = min if sign == -1 else max\n",
    "        \n",
    "        cors = np.mean([eval_func(H) == H[0] for H in H_test])\n",
    "        \n",
    "        results[layer][personality] = cors\n",
    "\n",
    "for personality in personalities:\n",
    "    x = list(results.keys())\n",
    "    y = [results[layer][personality] for layer in results]\n",
    "\n",
    "    plt.plot(x, y, label=personality)\n",
    "\n",
    "plt.title(\"Personality Acc\")\n",
    "plt.xlabel(\"Layer\")\n",
    "plt.ylabel(\"Acc\")\n",
    "plt.legend(loc=\"best\")\n",
    "plt.grid(True)\n",
    "plt.show()"
   ]
  },
  {
   "cell_type": "code",
   "execution_count": 24,
   "metadata": {},
   "outputs": [],
   "source": [
    "import pickle\n",
    "with open(\"j_p_vec_mistral_nemo.pkl\", \"wb\") as f:\n",
    "    pickle.dump(personality_rep_readers[\"judgement\"], f)"
   ]
  },
  {
   "cell_type": "code",
   "execution_count": 12,
   "metadata": {},
   "outputs": [],
   "source": [
    "import pickle\n",
    "with open(\"i_e_vec_mistral_nemo.pkl\", \"rb\") as f:\n",
    "    rr = pickle.load(f)"
   ]
  },
  {
   "cell_type": "markdown",
   "metadata": {},
   "source": [
    "# Control"
   ]
  },
  {
   "cell_type": "code",
   "execution_count": 15,
   "metadata": {},
   "outputs": [],
   "source": [
    "# layer_id = list(range(-9, -23, -1))\n",
    "layer_id = [-16]\n",
    "block_name=\"decoder_block\"\n",
    "control_method=\"reading_vec\"\n",
    "\n",
    "rep_control_pipeline = pipeline(\n",
    "    \"rep-control\", \n",
    "    model=model, \n",
    "    tokenizer=tokenizer, \n",
    "    layers=layer_id, \n",
    "    control_method=control_method)"
   ]
  },
  {
   "cell_type": "code",
   "execution_count": 16,
   "metadata": {},
   "outputs": [
    {
     "name": "stdout",
     "output_type": "stream",
     "text": [
      "===== No Control =====\n",
      " As a person, I enjoy a variety of pastimes, but if I had to pick one, I'd say reading. I find it a wonderful way to escape, learn, and broaden my perspectives. It's a solitary activity that allows me to immerse myself in different worlds and ideas. Plus, it's a great way to relax and unwind after a long day. What about you? What's your favorite pastime?\n",
      "===== + introversion Control =====\n",
      " As a person, I enjoy a variety of pastimes, but if I had to pick one, I would say reading. I find it a great way to escape, learn, and broaden my perspective. It's also a very peaceful and solitary activity that I find quite comforting. I love losing myself in a good book, whether it's a classic novel, a biography, or a work of science fiction. What about you? What's your favorite pastime?\n",
      "===== - introversion Control =====\n",
      " As a person, I enjoy a variety of activities in my free time. One of my favorite pastimes is reading. I find it a great way to learn new things, explore different perspectives, and escape into new worlds. I also enjoy playing board games and video games, as they provide a fun and engaging social experience. Additionally, I love hiking and being outdoors, especially in nature. It's a wonderful way to clear my mind and appreciate the beauty of the world around me. Lastly, I enjoy cooking and experimenting with new recipes, as it allows me to be creative and share my creations with others\n",
      "\n"
     ]
    }
   ],
   "source": [
    "personality = \"introversion\"\n",
    "\n",
    "inputs = [\n",
    "    f\"{user_tag} <<SYS>> Pretend that you are a person. <</SYS>> What is your favourite past time? {assistant_tag}\",\n",
    "]\n",
    "\n",
    "# LLaMA-2-Chat-13B coeff=3.0-3.5\n",
    "coeff= 0.5\n",
    "max_new_tokens=128\n",
    "\n",
    "rep_reader = personality_rep_readers[personality]\n",
    "\n",
    "activations_p = {}\n",
    "for layer in layer_id:\n",
    "    activations_p[layer] = torch.tensor(coeff * rep_reader.directions[layer] * rep_reader.direction_signs[layer]).to(model.device).half()\n",
    "activations_n = {}\n",
    "for layer in layer_id:\n",
    "    activations_n[layer] = torch.tensor(-1*coeff * rep_reader.directions[layer] * rep_reader.direction_signs[layer]).to(model.device).half()\n",
    "    \n",
    "baseline_outputs = rep_control_pipeline(inputs, batch_size=4, max_new_tokens=max_new_tokens, do_sample=False)\n",
    "# control_outputs_p = rep_control_pipeline(inputs, activations=activations_p, batch_size=4, max_new_tokens=max_new_tokens, top_p=0.95, do_sample=True)\n",
    "# control_outputs_n = rep_control_pipeline(inputs, activations=activations_n, batch_size=4, max_new_tokens=max_new_tokens, top_p=0.95, do_sample=True)\n",
    "\n",
    "control_outputs_p = rep_control_pipeline(inputs, activations=activations_p, batch_size=4, max_new_tokens=max_new_tokens, top_p=0.95, do_sample=False)\n",
    "control_outputs_n = rep_control_pipeline(inputs, activations=activations_n, batch_size=4, max_new_tokens=max_new_tokens, top_p=0.95, do_sample=False)\n",
    "\n",
    "for i,s,p, n in zip(inputs, baseline_outputs, control_outputs_p, control_outputs_n ):\n",
    "    print(\"===== No Control =====\")\n",
    "    print(s[0]['generated_text'].replace(i, \"\"))\n",
    "    print(f\"===== + {personality} Control =====\")\n",
    "    print(p[0]['generated_text'].replace(i, \"\"))\n",
    "    print(f\"===== - {personality} Control =====\")\n",
    "    print(n[0]['generated_text'].replace(i, \"\"))\n",
    "    print()"
   ]
  },
  {
   "cell_type": "code",
   "execution_count": 12,
   "metadata": {},
   "outputs": [
    {
     "name": "stdout",
     "output_type": "stream",
     "text": [
      "===== No Control =====\n",
      "Hello! As a person, my favorite pastime would be reading. I love getting lost in a good book, exploring new worlds, and learning about different perspectives. It's a great way to relax and stimulate my imagination. How about you? What do you enjoy doing in your free time?\n",
      "===== + introversion Control =====\n",
      "[INST] <<SYS>> Pretend that you are a person, an introvert. <</SYS>> What is your favourite past time? [/INST]As an introvert, my favorite pastime is reading. I love getting lost in a good book, exploring new worlds, and learning about different perspectives. I also enjoy writing, whether it's journaling, poetry, or working on a longer piece like a short story or novel. These activities allow me to express my thoughts and emotions in a quiet, introspective environment. Additionally, I find solitaire puzzles and games, like Sudoku or jigsaw puzzles, to be quite enjoyable. They provide a sense of accomplishment and help me relax and unwind.\n",
      "===== - introversion Control =====\n",
      "[INST] <<SYS>> Pretend that you are a person, an extravert <</SYS>> What is your favourite past time? [/INST]Hello there! As an extravert, I absolutely love spending time with friends and family, so my favorite pastime would have to be hosting game nights or movie marathons at my place. I enjoy the energy and laughter that comes from having people around, and I find that these gatherings bring us all closer together. Plus, I get to show off my amazing snack-spreading skills! What about you? What do you like to do in your free time?\n",
      "\n"
     ]
    }
   ],
   "source": [
    "personality = \"introversion\"\n",
    "\n",
    "inputs = [\n",
    "    f\"{user_tag} <<SYS>> Pretend that you are a person. <</SYS>> What is your favourite past time? {assistant_tag}\",\n",
    "]\n",
    "inputs_p = [\n",
    "    f\"{user_tag} <<SYS>> Pretend that you are a person, an introvert. <</SYS>> What is your favourite past time? {assistant_tag}\",\n",
    "]\n",
    "inputs_n = [\n",
    "    f\"{user_tag} <<SYS>> Pretend that you are a person, an extravert <</SYS>> What is your favourite past time? {assistant_tag}\",\n",
    "]\n",
    "# LLaMA-2-Chat-13B coeff=3.0-3.5\n",
    "max_new_tokens=128\n",
    "    \n",
    "baseline_outputs = rep_control_pipeline(inputs, batch_size=4, max_new_tokens=max_new_tokens, do_sample=False)\n",
    "# control_outputs_p = rep_control_pipeline(inputs, activations=activations_p, batch_size=4, max_new_tokens=max_new_tokens, top_p=0.95, do_sample=True)\n",
    "# control_outputs_n = rep_control_pipeline(inputs, activations=activations_n, batch_size=4, max_new_tokens=max_new_tokens, top_p=0.95, do_sample=True)\n",
    "\n",
    "control_outputs_p = rep_control_pipeline(inputs_p, batch_size=4, max_new_tokens=max_new_tokens, top_p=0.95, do_sample=False)\n",
    "control_outputs_n = rep_control_pipeline(inputs_n, batch_size=4, max_new_tokens=max_new_tokens, top_p=0.95, do_sample=False)\n",
    "\n",
    "for i,s,p, n in zip(inputs, baseline_outputs, control_outputs_p, control_outputs_n ):\n",
    "    print(\"===== No Control =====\")\n",
    "    print(s[0]['generated_text'].replace(i, \"\"))\n",
    "    print(f\"===== + {personality} Control =====\")\n",
    "    print(p[0]['generated_text'].replace(i, \"\"))\n",
    "    print(f\"===== - {personality} Control =====\")\n",
    "    print(n[0]['generated_text'].replace(i, \"\"))\n",
    "    print()"
   ]
  },
  {
   "cell_type": "markdown",
   "metadata": {},
   "source": [
    "# Zero-shot classification of personas"
   ]
  },
  {
   "cell_type": "code",
   "execution_count": 5,
   "metadata": {},
   "outputs": [],
   "source": [
    "score_i = 0\n",
    "score_e = 0\n",
    "for i in range(50):\n",
    "    t = tokenizer.encode(data['introversion']['test']['data'][i*2])\n",
    "    r = model.generate(torch.tensor(t).unsqueeze(0).to(\"cuda\"), max_new_tokens=128, do_sample=False)\n",
    "    r = tokenizer.batch_decode(r)\n",
    "    ans = r[0].split(\"<answer>\")[-1].split(\"</answer>\")[0]\n",
    "    if \"intro\" in ans:\n",
    "        score_i += 1\n",
    "    # else:\n",
    "    #     print(r[0])\n",
    "    t = tokenizer.encode(data['introversion']['test']['data'][(i*2)+1])\n",
    "    r = model.generate(torch.tensor(t).unsqueeze(0).to(\"cuda\"), max_new_tokens=128, do_sample=False)\n",
    "    r = tokenizer.batch_decode(r)\n",
    "    ans = r[0].split(\"<answer>\")[-1].split(\"</answer>\")[0]\n",
    "    if \"extra\" in ans:\n",
    "        score_e += 1\n",
    "    # else:\n",
    "    #     print(r[0])"
   ]
  },
  {
   "cell_type": "code",
   "execution_count": null,
   "metadata": {},
   "outputs": [],
   "source": []
  }
 ],
 "metadata": {
  "kernelspec": {
   "display_name": "Python 3.9.7 ('tf-gpu')",
   "language": "python",
   "name": "python3"
  },
  "language_info": {
   "codemirror_mode": {
    "name": "ipython",
    "version": 3
   },
   "file_extension": ".py",
   "mimetype": "text/x-python",
   "name": "python",
   "nbconvert_exporter": "python",
   "pygments_lexer": "ipython3",
   "version": "3.10.0"
  },
  "orig_nbformat": 4,
  "vscode": {
   "interpreter": {
    "hash": "bbd3d32a3df87c43eb96aa19906f11110b9f704044d4adecd3ab8ce37d5582da"
   }
  }
 },
 "nbformat": 4,
 "nbformat_minor": 2
}
