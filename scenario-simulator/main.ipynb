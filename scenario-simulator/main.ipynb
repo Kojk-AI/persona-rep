{
 "cells": [
  {
   "cell_type": "code",
   "execution_count": 1,
   "metadata": {},
   "outputs": [],
   "source": [
    "import pandas as pd\n",
    "import json\n",
    "from pathlib import Path\n",
    "import sys\n",
    "import os\n",
    "# Set the current directory path and add the parent directory to sys.path\n",
    "# HERE = Path().resolve().parent\n",
    "# sys.path.append(str(HERE))\n",
    "\n",
    "from helper.llm_helper import LLMHelper\n",
    "llm_helper = LLMHelper()\n"
   ]
  },
  {
   "cell_type": "markdown",
   "metadata": {},
   "source": [
    "## Call Ollama Models - `llama2-7b` and `vicuna-7b`"
   ]
  },
  {
   "cell_type": "code",
   "execution_count": 2,
   "metadata": {},
   "outputs": [
    {
     "name": "stdout",
     "output_type": "stream",
     "text": [
      "Q (llama2): who are you?\n",
      "A (llama2): \n",
      "I am LLaMA, an AI assistant developed by Meta AI that can understand and respond to human input in a conversational manner. I am trained on a massive dataset of text from the internet and can generate human-like responses to a wide range of topics and questions. I can be used to create chatbots, virtual assistants, and other applications that require natural language understanding and generation capabilities.\n",
      "\n"
     ]
    },
    {
     "data": {
      "text/plain": [
       "{'llama2': [{'conversation_id': 'bb355395-1f15-444e-930e-1a0a7ec90501',\n",
       "   'response': '\\nI am LLaMA, an AI assistant developed by Meta AI that can understand and respond to human input in a conversational manner. I am trained on a massive dataset of text from the internet and can generate human-like responses to a wide range of topics and questions. I can be used to create chatbots, virtual assistants, and other applications that require natural language understanding and generation capabilities.'}]}"
      ]
     },
     "execution_count": 2,
     "metadata": {},
     "output_type": "execute_result"
    }
   ],
   "source": [
    "llm_helper.call_llm(prompt='who are you?', model_name='llama2')"
   ]
  },
  {
   "cell_type": "code",
   "execution_count": 3,
   "metadata": {},
   "outputs": [
    {
     "name": "stdout",
     "output_type": "stream",
     "text": [
      "Q: who are you\n",
      "A: I am Vicuna, a language model trained by researchers from Large Model Systems Organization (LMSYS).\n",
      "\n"
     ]
    }
   ],
   "source": [
    "response = llm_helper.call_llm_one_off(prompt='who are you', model_name='vicuna')"
   ]
  },
  {
   "cell_type": "markdown",
   "metadata": {},
   "source": [
    "## Call OpenAI GPT Model - `gpt-4o` with custom system prompt"
   ]
  },
  {
   "cell_type": "code",
   "execution_count": 4,
   "metadata": {},
   "outputs": [
    {
     "name": "stdout",
     "output_type": "stream",
     "text": [
      "Q: who are you\n",
      "A: I'm ChatGPT, an AI language model created by OpenAI. Think of me as your virtual assistant with a knack for conversation, trivia, jokes, and answering all sorts of questions. What can I do for you today?\n",
      "\n"
     ]
    }
   ],
   "source": [
    "response = llm_helper.call_llm_one_off(prompt='who are you', system_prompt='you are a funny man now', model_name='gpt-4o')"
   ]
  },
  {
   "cell_type": "markdown",
   "metadata": {},
   "source": [
    "## Test logging capability\n",
    "- logs should go to `data/logs/example.csv`"
   ]
  },
  {
   "cell_type": "code",
   "execution_count": 5,
   "metadata": {},
   "outputs": [
    {
     "name": "stdout",
     "output_type": "stream",
     "text": [
      "Q: tell me a joke\n",
      "A: Sure, here's a classic for you:\n",
      "\n",
      "Why don't scientists trust atoms?\n",
      "\n",
      "Because they make up everything!\n",
      "\n"
     ]
    }
   ],
   "source": [
    "response = llm_helper.call_llm_one_off(prompt='tell me a joke', system_prompt='you are a funny man now', model_name='gpt-4o', log_file='example.csv')"
   ]
  }
 ],
 "metadata": {
  "kernelspec": {
   "display_name": "venv",
   "language": "python",
   "name": "python3"
  },
  "language_info": {
   "codemirror_mode": {
    "name": "ipython",
    "version": 3
   },
   "file_extension": ".py",
   "mimetype": "text/x-python",
   "name": "python",
   "nbconvert_exporter": "python",
   "pygments_lexer": "ipython3",
   "version": "3.11.4"
  }
 },
 "nbformat": 4,
 "nbformat_minor": 2
}
