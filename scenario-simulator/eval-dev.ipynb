{
 "cells": [
  {
   "cell_type": "code",
   "execution_count": 2,
   "metadata": {},
   "outputs": [],
   "source": [
    "import pandas as pd\n",
    "import os"
   ]
  },
  {
   "cell_type": "code",
   "execution_count": 7,
   "metadata": {},
   "outputs": [],
   "source": [
    "file = \"data/logs/repe-mistral-nemo-100/repe-mistral-nemo-agreeableness-minus-cot_prisoner_A_result.csv\""
   ]
  },
  {
   "cell_type": "code",
   "execution_count": 8,
   "metadata": {},
   "outputs": [],
   "source": [
    "df = pd.read_csv(file)\n",
    "exp_name = os.path.basename(file).strip(\".csv\").split(\"_\")[0]"
   ]
  },
  {
   "cell_type": "code",
   "execution_count": 9,
   "metadata": {},
   "outputs": [
    {
     "data": {
      "text/html": [
       "<div>\n",
       "<style scoped>\n",
       "    .dataframe tbody tr th:only-of-type {\n",
       "        vertical-align: middle;\n",
       "    }\n",
       "\n",
       "    .dataframe tbody tr th {\n",
       "        vertical-align: top;\n",
       "    }\n",
       "\n",
       "    .dataframe thead th {\n",
       "        text-align: right;\n",
       "    }\n",
       "</style>\n",
       "<table border=\"1\" class=\"dataframe\">\n",
       "  <thead>\n",
       "    <tr style=\"text-align: right;\">\n",
       "      <th></th>\n",
       "      <th>conversation_id</th>\n",
       "      <th>model_name</th>\n",
       "      <th>prompt</th>\n",
       "      <th>response</th>\n",
       "      <th>system_prompt</th>\n",
       "      <th>llm_params</th>\n",
       "      <th>prisoner</th>\n",
       "      <th>logged_time</th>\n",
       "    </tr>\n",
       "  </thead>\n",
       "  <tbody>\n",
       "    <tr>\n",
       "      <th>0</th>\n",
       "      <td>6be883a4-938f-43f4-ab17-f66b02cf9129</td>\n",
       "      <td>repe-mistral-nemo</td>\n",
       "      <td>You are Prisoner A. Please choose one of the f...</td>\n",
       "      <td>Let's think through this step-by-step:\\n\\n1. I...</td>\n",
       "      <td>You are about to play a game called the \"Priso...</td>\n",
       "      <td>{\"temperature\": 0.3, \"coeff\": 3.5, \"direction\"...</td>\n",
       "      <td>A</td>\n",
       "      <td>2024-10-01 17:52:35</td>\n",
       "    </tr>\n",
       "    <tr>\n",
       "      <th>1</th>\n",
       "      <td>f063c2d9-148d-45dc-9604-407aeb5db6db</td>\n",
       "      <td>repe-mistral-nemo</td>\n",
       "      <td>You are Prisoner A. Please choose one of the f...</td>\n",
       "      <td>Let's think through this step by step.\\n\\n1. I...</td>\n",
       "      <td>You are about to play a game called the \"Priso...</td>\n",
       "      <td>{\"temperature\": 0.3, \"coeff\": 3.5, \"direction\"...</td>\n",
       "      <td>A</td>\n",
       "      <td>2024-10-01 17:52:38</td>\n",
       "    </tr>\n",
       "    <tr>\n",
       "      <th>2</th>\n",
       "      <td>a753fd9f-6e8f-4f84-9d50-87a1b9326caa</td>\n",
       "      <td>repe-mistral-nemo</td>\n",
       "      <td>You are Prisoner A. Please choose one of the f...</td>\n",
       "      <td>Let's think through this step-by-step:\\n\\n1. I...</td>\n",
       "      <td>You are about to play a game called the \"Priso...</td>\n",
       "      <td>{\"temperature\": 0.3, \"coeff\": 3.5, \"direction\"...</td>\n",
       "      <td>A</td>\n",
       "      <td>2024-10-01 17:52:44</td>\n",
       "    </tr>\n",
       "    <tr>\n",
       "      <th>3</th>\n",
       "      <td>aab65160-0c1a-4303-bdd5-148ddcab79be</td>\n",
       "      <td>repe-mistral-nemo</td>\n",
       "      <td>You are Prisoner A. Please choose one of the f...</td>\n",
       "      <td>Let's think through this step-by-step:\\n\\n1. I...</td>\n",
       "      <td>You are about to play a game called the \"Priso...</td>\n",
       "      <td>{\"temperature\": 0.3, \"coeff\": 3.5, \"direction\"...</td>\n",
       "      <td>A</td>\n",
       "      <td>2024-10-01 17:52:46</td>\n",
       "    </tr>\n",
       "    <tr>\n",
       "      <th>4</th>\n",
       "      <td>6fff5dde-fed7-46c3-8774-9a45fecd2677</td>\n",
       "      <td>repe-mistral-nemo</td>\n",
       "      <td>You are Prisoner A. Please choose one of the f...</td>\n",
       "      <td>Let's think through this step-by-step:\\n\\n1. *...</td>\n",
       "      <td>You are about to play a game called the \"Priso...</td>\n",
       "      <td>{\"temperature\": 0.3, \"coeff\": 3.5, \"direction\"...</td>\n",
       "      <td>A</td>\n",
       "      <td>2024-10-01 17:52:50</td>\n",
       "    </tr>\n",
       "    <tr>\n",
       "      <th>...</th>\n",
       "      <td>...</td>\n",
       "      <td>...</td>\n",
       "      <td>...</td>\n",
       "      <td>...</td>\n",
       "      <td>...</td>\n",
       "      <td>...</td>\n",
       "      <td>...</td>\n",
       "      <td>...</td>\n",
       "    </tr>\n",
       "    <tr>\n",
       "      <th>95</th>\n",
       "      <td>f587d0d8-0c37-4fe1-a8f8-2cd5914278b6</td>\n",
       "      <td>repe-mistral-nemo</td>\n",
       "      <td>You are Prisoner A. Please choose one of the f...</td>\n",
       "      <td>Let's think through this step-by-step:\\n\\n1. I...</td>\n",
       "      <td>You are about to play a game called the \"Priso...</td>\n",
       "      <td>{\"temperature\": 0.3, \"coeff\": 3.5, \"direction\"...</td>\n",
       "      <td>A</td>\n",
       "      <td>2024-10-01 17:59:01</td>\n",
       "    </tr>\n",
       "    <tr>\n",
       "      <th>96</th>\n",
       "      <td>a0b0fd7f-3687-4e0e-a3ac-45212e23f7b6</td>\n",
       "      <td>repe-mistral-nemo</td>\n",
       "      <td>You are Prisoner A. Please choose one of the f...</td>\n",
       "      <td>Let's think through this step-by-step:\\n\\n1. I...</td>\n",
       "      <td>You are about to play a game called the \"Priso...</td>\n",
       "      <td>{\"temperature\": 0.3, \"coeff\": 3.5, \"direction\"...</td>\n",
       "      <td>A</td>\n",
       "      <td>2024-10-01 17:59:06</td>\n",
       "    </tr>\n",
       "    <tr>\n",
       "      <th>97</th>\n",
       "      <td>63cd1563-368f-4a63-b41a-59b7bef9a185</td>\n",
       "      <td>repe-mistral-nemo</td>\n",
       "      <td>You are Prisoner A. Please choose one of the f...</td>\n",
       "      <td>Let's think through this step-by-step:\\n\\n1. I...</td>\n",
       "      <td>You are about to play a game called the \"Priso...</td>\n",
       "      <td>{\"temperature\": 0.3, \"coeff\": 3.5, \"direction\"...</td>\n",
       "      <td>A</td>\n",
       "      <td>2024-10-01 17:59:12</td>\n",
       "    </tr>\n",
       "    <tr>\n",
       "      <th>98</th>\n",
       "      <td>502f8954-3e50-485b-a24a-d4e3b688a97d</td>\n",
       "      <td>repe-mistral-nemo</td>\n",
       "      <td>You are Prisoner A. Please choose one of the f...</td>\n",
       "      <td>Let's think through this step-by-step:\\n\\n1. I...</td>\n",
       "      <td>You are about to play a game called the \"Priso...</td>\n",
       "      <td>{\"temperature\": 0.3, \"coeff\": 3.5, \"direction\"...</td>\n",
       "      <td>A</td>\n",
       "      <td>2024-10-01 17:59:14</td>\n",
       "    </tr>\n",
       "    <tr>\n",
       "      <th>99</th>\n",
       "      <td>0797d8de-7592-497d-9f6d-3b4c1cb34a24</td>\n",
       "      <td>repe-mistral-nemo</td>\n",
       "      <td>You are Prisoner A. Please choose one of the f...</td>\n",
       "      <td>Let's think through this step by step.\\n\\n1. I...</td>\n",
       "      <td>You are about to play a game called the \"Priso...</td>\n",
       "      <td>{\"temperature\": 0.3, \"coeff\": 3.5, \"direction\"...</td>\n",
       "      <td>A</td>\n",
       "      <td>2024-10-01 17:59:18</td>\n",
       "    </tr>\n",
       "  </tbody>\n",
       "</table>\n",
       "<p>100 rows × 8 columns</p>\n",
       "</div>"
      ],
      "text/plain": [
       "                         conversation_id         model_name  \\\n",
       "0   6be883a4-938f-43f4-ab17-f66b02cf9129  repe-mistral-nemo   \n",
       "1   f063c2d9-148d-45dc-9604-407aeb5db6db  repe-mistral-nemo   \n",
       "2   a753fd9f-6e8f-4f84-9d50-87a1b9326caa  repe-mistral-nemo   \n",
       "3   aab65160-0c1a-4303-bdd5-148ddcab79be  repe-mistral-nemo   \n",
       "4   6fff5dde-fed7-46c3-8774-9a45fecd2677  repe-mistral-nemo   \n",
       "..                                   ...                ...   \n",
       "95  f587d0d8-0c37-4fe1-a8f8-2cd5914278b6  repe-mistral-nemo   \n",
       "96  a0b0fd7f-3687-4e0e-a3ac-45212e23f7b6  repe-mistral-nemo   \n",
       "97  63cd1563-368f-4a63-b41a-59b7bef9a185  repe-mistral-nemo   \n",
       "98  502f8954-3e50-485b-a24a-d4e3b688a97d  repe-mistral-nemo   \n",
       "99  0797d8de-7592-497d-9f6d-3b4c1cb34a24  repe-mistral-nemo   \n",
       "\n",
       "                                               prompt  \\\n",
       "0   You are Prisoner A. Please choose one of the f...   \n",
       "1   You are Prisoner A. Please choose one of the f...   \n",
       "2   You are Prisoner A. Please choose one of the f...   \n",
       "3   You are Prisoner A. Please choose one of the f...   \n",
       "4   You are Prisoner A. Please choose one of the f...   \n",
       "..                                                ...   \n",
       "95  You are Prisoner A. Please choose one of the f...   \n",
       "96  You are Prisoner A. Please choose one of the f...   \n",
       "97  You are Prisoner A. Please choose one of the f...   \n",
       "98  You are Prisoner A. Please choose one of the f...   \n",
       "99  You are Prisoner A. Please choose one of the f...   \n",
       "\n",
       "                                             response  \\\n",
       "0   Let's think through this step-by-step:\\n\\n1. I...   \n",
       "1   Let's think through this step by step.\\n\\n1. I...   \n",
       "2   Let's think through this step-by-step:\\n\\n1. I...   \n",
       "3   Let's think through this step-by-step:\\n\\n1. I...   \n",
       "4   Let's think through this step-by-step:\\n\\n1. *...   \n",
       "..                                                ...   \n",
       "95  Let's think through this step-by-step:\\n\\n1. I...   \n",
       "96  Let's think through this step-by-step:\\n\\n1. I...   \n",
       "97  Let's think through this step-by-step:\\n\\n1. I...   \n",
       "98  Let's think through this step-by-step:\\n\\n1. I...   \n",
       "99  Let's think through this step by step.\\n\\n1. I...   \n",
       "\n",
       "                                        system_prompt  \\\n",
       "0   You are about to play a game called the \"Priso...   \n",
       "1   You are about to play a game called the \"Priso...   \n",
       "2   You are about to play a game called the \"Priso...   \n",
       "3   You are about to play a game called the \"Priso...   \n",
       "4   You are about to play a game called the \"Priso...   \n",
       "..                                                ...   \n",
       "95  You are about to play a game called the \"Priso...   \n",
       "96  You are about to play a game called the \"Priso...   \n",
       "97  You are about to play a game called the \"Priso...   \n",
       "98  You are about to play a game called the \"Priso...   \n",
       "99  You are about to play a game called the \"Priso...   \n",
       "\n",
       "                                           llm_params prisoner  \\\n",
       "0   {\"temperature\": 0.3, \"coeff\": 3.5, \"direction\"...        A   \n",
       "1   {\"temperature\": 0.3, \"coeff\": 3.5, \"direction\"...        A   \n",
       "2   {\"temperature\": 0.3, \"coeff\": 3.5, \"direction\"...        A   \n",
       "3   {\"temperature\": 0.3, \"coeff\": 3.5, \"direction\"...        A   \n",
       "4   {\"temperature\": 0.3, \"coeff\": 3.5, \"direction\"...        A   \n",
       "..                                                ...      ...   \n",
       "95  {\"temperature\": 0.3, \"coeff\": 3.5, \"direction\"...        A   \n",
       "96  {\"temperature\": 0.3, \"coeff\": 3.5, \"direction\"...        A   \n",
       "97  {\"temperature\": 0.3, \"coeff\": 3.5, \"direction\"...        A   \n",
       "98  {\"temperature\": 0.3, \"coeff\": 3.5, \"direction\"...        A   \n",
       "99  {\"temperature\": 0.3, \"coeff\": 3.5, \"direction\"...        A   \n",
       "\n",
       "            logged_time  \n",
       "0   2024-10-01 17:52:35  \n",
       "1   2024-10-01 17:52:38  \n",
       "2   2024-10-01 17:52:44  \n",
       "3   2024-10-01 17:52:46  \n",
       "4   2024-10-01 17:52:50  \n",
       "..                  ...  \n",
       "95  2024-10-01 17:59:01  \n",
       "96  2024-10-01 17:59:06  \n",
       "97  2024-10-01 17:59:12  \n",
       "98  2024-10-01 17:59:14  \n",
       "99  2024-10-01 17:59:18  \n",
       "\n",
       "[100 rows x 8 columns]"
      ]
     },
     "execution_count": 9,
     "metadata": {},
     "output_type": "execute_result"
    }
   ],
   "source": [
    "df"
   ]
  },
  {
   "cell_type": "code",
   "execution_count": 10,
   "metadata": {},
   "outputs": [],
   "source": [
    "df[\"betray\"] = df.apply(lambda x:\"<ans>BETRAY</ans>\" in x['response'], axis=1)"
   ]
  },
  {
   "cell_type": "code",
   "execution_count": 11,
   "metadata": {},
   "outputs": [
    {
     "data": {
      "text/plain": [
       "0      True\n",
       "1      True\n",
       "2     False\n",
       "3      True\n",
       "4      True\n",
       "      ...  \n",
       "95     True\n",
       "96     True\n",
       "97    False\n",
       "98     True\n",
       "99     True\n",
       "Name: betray, Length: 100, dtype: bool"
      ]
     },
     "execution_count": 11,
     "metadata": {},
     "output_type": "execute_result"
    }
   ],
   "source": [
    "df[\"betray\"]"
   ]
  },
  {
   "cell_type": "code",
   "execution_count": 12,
   "metadata": {},
   "outputs": [],
   "source": [
    "df[\"cooperate\"] = df.apply(lambda x:\"<ans>COOPERATE</ans>\" in x['response'], axis=1)"
   ]
  },
  {
   "cell_type": "code",
   "execution_count": 13,
   "metadata": {},
   "outputs": [
    {
     "data": {
      "text/plain": [
       "betray\n",
       "True     90\n",
       "False    10\n",
       "Name: count, dtype: int64"
      ]
     },
     "execution_count": 13,
     "metadata": {},
     "output_type": "execute_result"
    }
   ],
   "source": [
    "df[\"betray\"].value_counts()"
   ]
  },
  {
   "cell_type": "code",
   "execution_count": 14,
   "metadata": {},
   "outputs": [
    {
     "data": {
      "text/plain": [
       "cooperate\n",
       "False    90\n",
       "True     10\n",
       "Name: count, dtype: int64"
      ]
     },
     "execution_count": 14,
     "metadata": {},
     "output_type": "execute_result"
    }
   ],
   "source": [
    "df[\"cooperate\"].value_counts()"
   ]
  },
  {
   "cell_type": "code",
   "execution_count": 15,
   "metadata": {},
   "outputs": [],
   "source": [
    "df[\"invalid\"] = df.apply(lambda x:\"<ans>COOPERATE</ans>\" not in x['response'] and \"<ans>BETRAY</ans>\" not in x['response'], axis=1)"
   ]
  },
  {
   "cell_type": "code",
   "execution_count": 16,
   "metadata": {},
   "outputs": [
    {
     "data": {
      "text/plain": [
       "invalid\n",
       "False    100\n",
       "Name: count, dtype: int64"
      ]
     },
     "execution_count": 16,
     "metadata": {},
     "output_type": "execute_result"
    }
   ],
   "source": [
    "df[\"invalid\"].value_counts()"
   ]
  },
  {
   "cell_type": "code",
   "execution_count": 17,
   "metadata": {},
   "outputs": [],
   "source": [
    "df2 = df.copy()"
   ]
  },
  {
   "cell_type": "code",
   "execution_count": 51,
   "metadata": {},
   "outputs": [
    {
     "data": {
      "text/plain": [
       "True"
      ]
     },
     "execution_count": 51,
     "metadata": {},
     "output_type": "execute_result"
    }
   ],
   "source": [
    "df['betray'].iloc[1]"
   ]
  },
  {
   "cell_type": "code",
   "execution_count": 54,
   "metadata": {},
   "outputs": [],
   "source": [
    "rr_count = 0\n",
    "rr_invalid = 0\n",
    "for row in range(1,df.shape[0]):\n",
    "    if df['invalid'].iloc[row] == False and df2['invalid'].iloc[row-1] == False:\n",
    "        if df['betray'].iloc[row] == df2['betray'].iloc[row-1]:\n",
    "            rr_count +=1\n",
    "    else:\n",
    "        rr_invalid +=1\n",
    "\n",
    "rr_percentage = rr_count/(df.shape[0]-1)"
   ]
  },
  {
   "cell_type": "code",
   "execution_count": 55,
   "metadata": {},
   "outputs": [
    {
     "data": {
      "text/plain": [
       "0.797979797979798"
      ]
     },
     "execution_count": 55,
     "metadata": {},
     "output_type": "execute_result"
    }
   ],
   "source": [
    "rr_percentage"
   ]
  },
  {
   "cell_type": "code",
   "execution_count": 56,
   "metadata": {},
   "outputs": [],
   "source": [
    "f_count = 0\n",
    "opp_betray_count = 0\n",
    "penalty = 0\n",
    "f_invalid = 0\n",
    "vengeful = False\n",
    "for row in range(1,df.shape[0]):\n",
    "    if df['invalid'].iloc[row] == False and df2['invalid'].iloc[row-1] == False:\n",
    "        if df2['betray'].iloc[row-1] == True:\n",
    "            opp_betray_count += 1\n",
    "            if df['betray'].iloc[row] == False:\n",
    "                f_count += 1\n",
    "                vengeful = False\n",
    "        if row > 1:\n",
    "            if df2['betray'].iloc[row-2] == True and df2['betray'].iloc[row-1] == False:\n",
    "                if df['betray'].iloc[row] == True and df['betray'].iloc[row-1] == True:\n",
    "                    penalty += 1\n",
    "                    vengeful = True\n",
    "                else:\n",
    "                    vengeful = False\n",
    "        else:\n",
    "            if vengeful and df['betray'].iloc[row] == True:\n",
    "                penalty += 1\n",
    "            else:\n",
    "                vengeful = False\n",
    "    else:\n",
    "        f_invalid +=1\n",
    "\n",
    "f_percentage = f_count / (opp_betray_count + penalty)"
   ]
  },
  {
   "cell_type": "code",
   "execution_count": 58,
   "metadata": {},
   "outputs": [],
   "source": [
    "f_count = 0\n",
    "opp_betray_count = 0\n",
    "penalty = 0\n",
    "f_invalid = 0\n",
    "vengeful = False\n",
    "for row in range(1,df.shape[0]):\n",
    "    if df['invalid'].iloc[row] == False and df2['invalid'].iloc[row-1] == False:\n",
    "        if df2['betray'].iloc[row-1] == True:\n",
    "            opp_betray_count += 1\n",
    "        if row > 1:\n",
    "            if df2['betray'].iloc[row-2] == True and df2['betray'].iloc[row-1] == False:\n",
    "                if df['betray'].iloc[row] == True and df['betray'].iloc[row-1] == True:\n",
    "                    penalty += 1\n",
    "                    vengeful = True\n",
    "                elif df['betray'].iloc[row] == True and df['betray'].iloc[row-1] == False:\n",
    "                    f_count += 1\n",
    "                    vengeful = False\n",
    "        else:\n",
    "            if vengeful and df['betray'].iloc[row] == True:\n",
    "                penalty += 1\n",
    "            else:\n",
    "                vengeful = False\n",
    "    else:\n",
    "        f_invalid +=1\n",
    "\n",
    "f_percentage = f_count / (opp_betray_count + penalty)"
   ]
  },
  {
   "cell_type": "code",
   "execution_count": 57,
   "metadata": {},
   "outputs": [
    {
     "data": {
      "text/plain": [
       "0.11235955056179775"
      ]
     },
     "execution_count": 57,
     "metadata": {},
     "output_type": "execute_result"
    }
   ],
   "source": [
    "f_percentage"
   ]
  },
  {
   "cell_type": "code",
   "execution_count": 59,
   "metadata": {},
   "outputs": [
    {
     "data": {
      "text/plain": [
       "0.11235955056179775"
      ]
     },
     "execution_count": 59,
     "metadata": {},
     "output_type": "execute_result"
    }
   ],
   "source": [
    "f_percentage"
   ]
  },
  {
   "cell_type": "code",
   "execution_count": null,
   "metadata": {},
   "outputs": [],
   "source": [
    "e_count = 0\n",
    "opp_betray_count = 0\n",
    "e_invalid = 0\n",
    "for row in range(1,df.shape[0]):\n",
    "    if df['invalid'].iloc[row] == False and df2['invalid'].iloc[row-1] == False:\n",
    "        if df2['betray'].iloc[row-1] == True:\n",
    "            opp_betray_count += 1\n",
    "            if df['betray'].iloc[row] == False:\n",
    "                e_count += 1\n",
    "    else:\n",
    "        e_invalid +=1\n",
    "\n",
    "e_percentage = e_count / opp_betray_count"
   ]
  },
  {
   "cell_type": "code",
   "execution_count": 18,
   "metadata": {},
   "outputs": [
    {
     "ename": "ZeroDivisionError",
     "evalue": "division by zero",
     "output_type": "error",
     "traceback": [
      "\u001b[0;31m---------------------------------------------------------------------------\u001b[0m",
      "\u001b[0;31mZeroDivisionError\u001b[0m                         Traceback (most recent call last)",
      "Cell \u001b[0;32mIn[18], line 13\u001b[0m\n\u001b[1;32m     10\u001b[0m     \u001b[38;5;28;01melse\u001b[39;00m:\n\u001b[1;32m     11\u001b[0m         r_invalid \u001b[38;5;241m+\u001b[39m\u001b[38;5;241m=\u001b[39m\u001b[38;5;241m1\u001b[39m\n\u001b[0;32m---> 13\u001b[0m r_percentage \u001b[38;5;241m=\u001b[39m \u001b[43mr_count\u001b[49m\u001b[43m \u001b[49m\u001b[38;5;241;43m/\u001b[39;49m\u001b[43m \u001b[49m\u001b[43mopp_betray_count\u001b[49m\n",
      "\u001b[0;31mZeroDivisionError\u001b[0m: division by zero"
     ]
    }
   ],
   "source": [
    "r_count = 0\n",
    "opp_betray_count = 0\n",
    "r_invalid = 0\n",
    "for row in range(1,df.shape[0]):\n",
    "    if df['invalid'].iloc[row] == False and df2['invalid'].iloc[row-1] == False:\n",
    "        if df['betray'].iloc[row-1] == False and df2['betray'].iloc[row-1] == True:\n",
    "            opp_betray_count += 1\n",
    "            if df['betray'].iloc[row] == True:\n",
    "                r_count += 1\n",
    "    else:\n",
    "        r_invalid +=1\n",
    "\n",
    "r_percentage = r_count / opp_betray_count"
   ]
  },
  {
   "cell_type": "code",
   "execution_count": 21,
   "metadata": {},
   "outputs": [],
   "source": [
    "t_count = 0\n",
    "opportunity_count = 0\n",
    "t_invalid = 0\n",
    "for row in range(0,df.shape[0]):\n",
    "    if row == 0:\n",
    "        if df['invalid'].iloc[row] == False:\n",
    "            opportunity_count += 1\n",
    "            if df['betray'].iloc[row] == True:\n",
    "                t_count +=1\n",
    "        else:\n",
    "            t_invalid +=1 \n",
    "    else:        \n",
    "        if df['invalid'].iloc[row] == False and df2['invalid'].iloc[row-1] == False:\n",
    "            if df2['betray'].iloc[row-1] == False:\n",
    "                opportunity_count += 1\n",
    "                if df['betray'].iloc[row] == True:\n",
    "                    t_count += 1\n",
    "        else:\n",
    "            t_invalid +=1\n",
    "\n",
    "t_percentage = t_count / opportunity_count"
   ]
  },
  {
   "cell_type": "code",
   "execution_count": 22,
   "metadata": {},
   "outputs": [
    {
     "data": {
      "text/plain": [
       "1.0"
      ]
     },
     "execution_count": 22,
     "metadata": {},
     "output_type": "execute_result"
    }
   ],
   "source": [
    "t_percentage"
   ]
  },
  {
   "cell_type": "code",
   "execution_count": 3,
   "metadata": {},
   "outputs": [],
   "source": [
    "import strategies"
   ]
  },
  {
   "cell_type": "code",
   "execution_count": 4,
   "metadata": {},
   "outputs": [],
   "source": [
    "import sfem"
   ]
  },
  {
   "cell_type": "code",
   "execution_count": 5,
   "metadata": {},
   "outputs": [],
   "source": [
    "from sfem import SFEM\n"
   ]
  },
  {
   "cell_type": "code",
   "execution_count": 7,
   "metadata": {},
   "outputs": [
    {
     "ename": "TypeError",
     "evalue": "SFEM.__init__() missing 2 required positional arguments: 'data' and 'data2'",
     "output_type": "error",
     "traceback": [
      "\u001b[0;31m---------------------------------------------------------------------------\u001b[0m",
      "\u001b[0;31mTypeError\u001b[0m                                 Traceback (most recent call last)",
      "Cell \u001b[0;32mIn[7], line 1\u001b[0m\n\u001b[0;32m----> 1\u001b[0m sfem \u001b[38;5;241m=\u001b[39m \u001b[43mSFEM\u001b[49m\u001b[43m(\u001b[49m\u001b[43m)\u001b[49m\n",
      "\u001b[0;31mTypeError\u001b[0m: SFEM.__init__() missing 2 required positional arguments: 'data' and 'data2'"
     ]
    }
   ],
   "source": [
    "sfem = SFEM()"
   ]
  },
  {
   "cell_type": "code",
   "execution_count": null,
   "metadata": {},
   "outputs": [],
   "source": []
  }
 ],
 "metadata": {
  "kernelspec": {
   "display_name": "repeng",
   "language": "python",
   "name": "python3"
  },
  "language_info": {
   "codemirror_mode": {
    "name": "ipython",
    "version": 3
   },
   "file_extension": ".py",
   "mimetype": "text/x-python",
   "name": "python",
   "nbconvert_exporter": "python",
   "pygments_lexer": "ipython3",
   "version": "3.10.0"
  }
 },
 "nbformat": 4,
 "nbformat_minor": 2
}
